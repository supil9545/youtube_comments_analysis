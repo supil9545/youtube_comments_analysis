{
 "cells": [
  {
   "cell_type": "code",
   "execution_count": 31,
   "id": "cd8ef243",
   "metadata": {},
   "outputs": [],
   "source": [
    "import pandas as pd\n",
    "import tensorflow as tf\n",
    "import matplotlib\n",
    "import os \n",
    "import numpy as np\n",
    "import openpyxl\n",
    "\n",
    "from googleapiclient.discovery import build"
   ]
  },
  {
   "cell_type": "code",
   "execution_count": 32,
   "id": "85fcea79",
   "metadata": {},
   "outputs": [],
   "source": [
    "comments = list()\n",
    "api_obj = build('youtube', 'v3', developerKey='')\n",
    "response = api_obj.commentThreads().list(part='snippet,replies', videoId='rkjfEUreT8A', maxResults=100).execute()"
   ]
  },
  {
   "cell_type": "code",
   "execution_count": 33,
   "id": "45b14613",
   "metadata": {},
   "outputs": [],
   "source": [
    "while response:\n",
    "    for item in response['items']:\n",
    "        comment = item['snippet']['topLevelComment']['snippet']\n",
    "        comments.append([comment['textDisplay'], comment['authorDisplayName'], comment['publishedAt'], comment['likeCount']])\n",
    " \n",
    "    if 'nextPageToken' in response:\n",
    "        response = api_obj.commentThreads().list(part='snippet,replies', videoId='rkjfEUreT8A', pageToken=response['nextPageToken'], maxResults=100).execute()\n",
    "    else:\n",
    "        break"
   ]
  },
  {
   "cell_type": "code",
   "execution_count": 34,
   "id": "1cf3e60d",
   "metadata": {},
   "outputs": [
    {
     "data": {
      "text/plain": [
       "{'videoId': 'rkjfEUreT8A',\n",
       " 'textDisplay': '참, 잘했어요~ 꼭 행복하시고  아름다운 사랑하세요~~^^',\n",
       " 'textOriginal': '참, 잘했어요~ 꼭 행복하시고  아름다운 사랑하세요~~^^',\n",
       " 'authorDisplayName': 'jongsun kim',\n",
       " 'authorProfileImageUrl': 'https://yt3.ggpht.com/ytc/AKedOLSp-uXYC0PWnafx7bk8XpJgyhMk3JnY45gfvw=s48-c-k-c0x00ffffff-no-rj',\n",
       " 'authorChannelUrl': 'http://www.youtube.com/channel/UCWy9tnWVh14EXw76vIWAU9Q',\n",
       " 'authorChannelId': {'value': 'UCWy9tnWVh14EXw76vIWAU9Q'},\n",
       " 'canRate': True,\n",
       " 'viewerRating': 'none',\n",
       " 'likeCount': 8,\n",
       " 'publishedAt': '2020-08-21T20:38:07Z',\n",
       " 'updatedAt': '2020-08-21T20:38:07Z'}"
      ]
     },
     "execution_count": 34,
     "metadata": {},
     "output_type": "execute_result"
    }
   ],
   "source": [
    "comment"
   ]
  },
  {
   "cell_type": "code",
   "execution_count": 35,
   "id": "fe222e38",
   "metadata": {},
   "outputs": [],
   "source": [
    "df = pd.DataFrame(comments)\n",
    "df.to_excel('results.xlsx', header=['comment', 'author', 'date', 'num_likes'], index=None)"
   ]
  },
  {
   "cell_type": "code",
   "execution_count": 30,
   "id": "6419c957",
   "metadata": {},
   "outputs": [],
   "source": [
    "api_key = ''\n",
    "video_id = 'rkjfEUreT8A'\n",
    " \n",
    "comments = list()\n",
    "api_obj = build('youtube', 'v3', developerKey=api_key)\n",
    "response = api_obj.commentThreads().list(part='snippet,replies', videoId=video_id, maxResults=100).execute()\n",
    " \n",
    "while response:\n",
    "    for item in response['items']:\n",
    "        comment = item['snippet']['topLevelComment']['snippet']\n",
    "        comments.append([comment['textDisplay'], comment['authorDisplayName'], comment['publishedAt'], comment['likeCount']])\n",
    " \n",
    "    if 'nextPageToken' in response:\n",
    "        response = api_obj.commentThreads().list(part='snippet,replies', videoId=video_id, pageToken=response['nextPageToken'], maxResults=100).execute()\n",
    "    else:\n",
    "        break\n",
    " \n",
    "df = pd.DataFrame(comments)\n",
    "df.to_excel('results.xlsx', header=['comment', 'author', 'date', 'num_likes'], index=None)"
   ]
  }
 ],
 "metadata": {
  "kernelspec": {
   "display_name": "Python 3",
   "language": "python",
   "name": "python3"
  },
  "language_info": {
   "codemirror_mode": {
    "name": "ipython",
    "version": 3
   },
   "file_extension": ".py",
   "mimetype": "text/x-python",
   "name": "python",
   "nbconvert_exporter": "python",
   "pygments_lexer": "ipython3",
   "version": "3.6.13"
  }
 },
 "nbformat": 4,
 "nbformat_minor": 5
}
