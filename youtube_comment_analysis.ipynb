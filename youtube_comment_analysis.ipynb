{
 "cells": [
  {
   "cell_type": "code",
   "execution_count": 1,
   "id": "a38a76ea",
   "metadata": {
    "scrolled": false
   },
   "outputs": [
    {
     "name": "stdout",
     "output_type": "stream",
     "text": [
      "WARNING:tensorflow:From C:\\Users\\inspace\\Anaconda3\\envs\\nlp\\lib\\site-packages\\tensorflow\\python\\compat\\v2_compat.py:96: disable_resource_variables (from tensorflow.python.ops.variable_scope) is deprecated and will be removed in a future version.\n",
      "Instructions for updating:\n",
      "non-resource variables are not supported in the long term\n"
     ]
    }
   ],
   "source": [
    "import tensorflow.compat.v1 as tf\n",
    "tf.disable_v2_behavior()\n",
    "import pandas as pd\n",
    "import numpy as np  \n",
    "import re\n",
    "import os\n",
    "\n",
    "from tensorflow import keras\n",
    "from tensorflow.keras.models import load_model\n",
    "import tensorflow.python.keras.backend as K\n",
    "# from tensorflow.keras import backend as K\n",
    "from tensorflow.keras import Input, Model\n",
    "from tensorflow.keras import optimizers\n",
    "\n",
    "from keras_bert import load_trained_model_from_checkpoint\n",
    "from keras_bert import Tokenizer\n",
    "from keras_bert import AdamWarmup, calc_train_steps\n",
    "from keras_radam import RAdam\n",
    "\n",
    "import codecs"
   ]
  },
  {
   "cell_type": "code",
   "execution_count": 28,
   "id": "27c85a86",
   "metadata": {},
   "outputs": [],
   "source": [
    "import googletrans \n",
    "from langdetect import detect\n",
    "translator = googletrans.Translator()"
   ]
  },
  {
   "cell_type": "code",
   "execution_count": 3,
   "id": "3f0e5d31",
   "metadata": {},
   "outputs": [],
   "source": [
    "SEQ_LEN = 128\n",
    "BATCH_SIZE = 16\n",
    "EPOCHS=2\n",
    "LR=1e-5\n",
    "\n",
    "path =\"model\\\\bert\"\n",
    "config_path = os.path.join(path, 'bert_config.json')\n",
    "checkpoint_path = os.path.join(path, 'bert_model.ckpt')\n",
    "vocab_path = os.path.join(path, 'vocab.txt')\n",
    "\n",
    "DATA_COLUMN = \"document\"\n",
    "LABEL_COLUMN = \"label\""
   ]
  },
  {
   "cell_type": "code",
   "execution_count": 4,
   "id": "d6b881f8",
   "metadata": {},
   "outputs": [],
   "source": [
    "token_dict = {}\n",
    "with codecs.open(vocab_path, 'r', 'utf8') as reader:\n",
    "    for line in reader:\n",
    "        token = line.strip()\n",
    "        if \"_\" in token:\n",
    "          token = token.replace(\"_\",\"\")\n",
    "          token = \"##\" + token\n",
    "        token_dict[token] = len(token_dict)"
   ]
  },
  {
   "cell_type": "code",
   "execution_count": 5,
   "id": "cbe09860",
   "metadata": {},
   "outputs": [],
   "source": [
    "class inherit_Tokenizer(Tokenizer):\n",
    "    def _tokenize(self, text):\n",
    "        if not self._cased:\n",
    "            text = text\n",
    "\n",
    "            text = text.lower()\n",
    "        spaced = ''\n",
    "        for ch in text:\n",
    "            if self._is_punctuation(ch) or self._is_cjk_character(ch):\n",
    "                spaced += ' ' + ch + ' '\n",
    "            elif self._is_space(ch):\n",
    "                spaced += ' '\n",
    "            elif ord(ch) == 0 or ord(ch) == 0xfffd or self._is_control(ch):\n",
    "                continue\n",
    "            else:\n",
    "                spaced += ch\n",
    "        tokens = []\n",
    "        for word in spaced.strip().split():\n",
    "            tokens += self._word_piece_tokenize(word)\n",
    "        return tokens"
   ]
  },
  {
   "cell_type": "code",
   "execution_count": 6,
   "id": "0082ef7e",
   "metadata": {},
   "outputs": [],
   "source": [
    "tokenizer = inherit_Tokenizer(token_dict)"
   ]
  },
  {
   "cell_type": "code",
   "execution_count": 7,
   "id": "5c3c2a9e",
   "metadata": {},
   "outputs": [
    {
     "name": "stdout",
     "output_type": "stream",
     "text": [
      "WARNING:tensorflow:From C:\\Users\\inspace\\Anaconda3\\envs\\nlp\\lib\\site-packages\\tensorflow\\python\\keras\\initializers.py:119: calling RandomUniform.__init__ (from tensorflow.python.ops.init_ops) with dtype is deprecated and will be removed in a future version.\n",
      "Instructions for updating:\n",
      "Call initializer instance with the dtype argument instead of passing it to the constructor\n",
      "WARNING:tensorflow:From C:\\Users\\inspace\\Anaconda3\\envs\\nlp\\lib\\site-packages\\tensorflow\\python\\ops\\resource_variable_ops.py:1666: calling BaseResourceVariable.__init__ (from tensorflow.python.ops.resource_variable_ops) with constraint is deprecated and will be removed in a future version.\n",
      "Instructions for updating:\n",
      "If using Keras pass *_constraint arguments to layers.\n"
     ]
    }
   ],
   "source": [
    "layer_num = 12\n",
    "model = load_trained_model_from_checkpoint(\n",
    "    config_path,\n",
    "    checkpoint_path,\n",
    "    training=True,\n",
    "    trainable=True,\n",
    "    seq_len=SEQ_LEN,)"
   ]
  },
  {
   "cell_type": "code",
   "execution_count": 8,
   "id": "cd22ef64",
   "metadata": {},
   "outputs": [],
   "source": [
    "def get_bert_finetuning_model(model):\n",
    "    inputs = model.inputs[:2]\n",
    "    dense = model.layers[-3].output\n",
    "\n",
    "\n",
    "    outputs = keras.layers.Dense(1, activation='sigmoid',kernel_initializer=keras.initializers.TruncatedNormal(stddev=0.02),\n",
    "                              name = 'real_output')(dense)\n",
    "\n",
    "\n",
    "\n",
    "    bert_model = keras.models.Model(inputs, outputs)\n",
    "    bert_model.compile(\n",
    "      optimizer=RAdam(learning_rate=0.00001, weight_decay=0.0025),\n",
    "      loss='binary_crossentropy',\n",
    "      metrics=['accuracy'])\n",
    "\n",
    "    return bert_model"
   ]
  },
  {
   "cell_type": "code",
   "execution_count": 9,
   "id": "85e79e78",
   "metadata": {},
   "outputs": [],
   "source": [
    "bert_model = get_bert_finetuning_model(model)\n",
    "bert_model.load_weights(path+\"/bert.h5\")"
   ]
  },
  {
   "cell_type": "code",
   "execution_count": 10,
   "id": "458af02f",
   "metadata": {},
   "outputs": [],
   "source": [
    "def sentence_convert_data(data):\n",
    "    global tokenizer\n",
    "    indices = []\n",
    "    ids, segments = tokenizer.encode(data, max_len=SEQ_LEN)\n",
    "    indices.append(ids)\n",
    "        \n",
    "    items = indices\n",
    "    indices = np.array(indices)\n",
    "    return [indices, np.zeros_like(indices)]\n",
    "\n",
    "def movie_evaluation_predict(sentence):\n",
    "    data_x = sentence_convert_data(sentence)\n",
    "    predict = bert_model.predict(data_x)\n",
    "    predict_answer = np.round(np.ravel(predict), 0).item()\n",
    "    \n",
    "    return predict_answer\n",
    "#     if predict_answer == 0:\n",
    "#         print(\"부정적인 평가입니다.\")\n",
    "#     elif predict_answer == 1:\n",
    "#         print(\"긍정적인 평가입니다.\")"
   ]
  },
  {
   "cell_type": "code",
   "execution_count": 29,
   "id": "15f2227d",
   "metadata": {},
   "outputs": [],
   "source": [
    "def detect_func(s):\n",
    "    try:\n",
    "        return detect(s)\n",
    "    except:\n",
    "        pass"
   ]
  },
  {
   "cell_type": "code",
   "execution_count": 11,
   "id": "f4f2efaa",
   "metadata": {},
   "outputs": [
    {
     "data": {
      "text/plain": [
       "1.0"
      ]
     },
     "execution_count": 11,
     "metadata": {},
     "output_type": "execute_result"
    }
   ],
   "source": [
    "movie_evaluation_predict(\n",
    "\"\"\"\n",
    "\n",
    "\"\"\")"
   ]
  },
  {
   "cell_type": "code",
   "execution_count": 12,
   "id": "f5c4d7c1",
   "metadata": {},
   "outputs": [],
   "source": [
    "how_we_met = pd.read_excel(\"data/how_we_met1.xlsx\", engine='openpyxl')"
   ]
  },
  {
   "cell_type": "code",
   "execution_count": 13,
   "id": "15f642eb",
   "metadata": {},
   "outputs": [],
   "source": [
    "prank = pd.read_excel(\"data/prank1.xlsx\", engine='openpyxl')"
   ]
  },
  {
   "cell_type": "code",
   "execution_count": 14,
   "id": "9d17e568",
   "metadata": {},
   "outputs": [],
   "source": [
    "russian_soldier = pd.read_excel(\"data/russian_soldiers.xlsx\", engine='openpyxl')"
   ]
  },
  {
   "cell_type": "code",
   "execution_count": 15,
   "id": "d312d8f3",
   "metadata": {},
   "outputs": [],
   "source": [
    "how_we_met['comment'] = how_we_met['comment'].str.replace('<br>','')"
   ]
  },
  {
   "cell_type": "code",
   "execution_count": 16,
   "id": "632690c2",
   "metadata": {},
   "outputs": [
    {
     "data": {
      "text/html": [
       "<div>\n",
       "<style scoped>\n",
       "    .dataframe tbody tr th:only-of-type {\n",
       "        vertical-align: middle;\n",
       "    }\n",
       "\n",
       "    .dataframe tbody tr th {\n",
       "        vertical-align: top;\n",
       "    }\n",
       "\n",
       "    .dataframe thead th {\n",
       "        text-align: right;\n",
       "    }\n",
       "</style>\n",
       "<table border=\"1\" class=\"dataframe\">\n",
       "  <thead>\n",
       "    <tr style=\"text-align: right;\">\n",
       "      <th></th>\n",
       "      <th>comment</th>\n",
       "      <th>author</th>\n",
       "      <th>date</th>\n",
       "      <th>num_likes</th>\n",
       "    </tr>\n",
       "  </thead>\n",
       "  <tbody>\n",
       "    <tr>\n",
       "      <th>0</th>\n",
       "      <td>자막이 겹쳐보인다면 설정에서 자막을 끄실 수 있습니다!^^ por favor act...</td>\n",
       "      <td>의대생과 공대생 [Kris and ME]</td>\n",
       "      <td>2020-08-21T21:16:20Z</td>\n",
       "      <td>32</td>\n",
       "    </tr>\n",
       "    <tr>\n",
       "      <th>1</th>\n",
       "      <td>Нифига )))) вам везет Скучаю по России ..Кст, ...</td>\n",
       "      <td>아라사의추위</td>\n",
       "      <td>2021-07-20T11:08:11Z</td>\n",
       "      <td>0</td>\n",
       "    </tr>\n",
       "    <tr>\n",
       "      <th>2</th>\n",
       "      <td>이런 순수한 고백.사랑...경험해본지 30년은 넘은듯 한데...  영상을 보는내내 ...</td>\n",
       "      <td>인생은추억</td>\n",
       "      <td>2021-04-28T11:35:23Z</td>\n",
       "      <td>1</td>\n",
       "    </tr>\n",
       "    <tr>\n",
       "      <th>3</th>\n",
       "      <td>용기있는자가 미인을 얻는다는말..</td>\n",
       "      <td>chul7656</td>\n",
       "      <td>2021-04-22T07:19:06Z</td>\n",
       "      <td>0</td>\n",
       "    </tr>\n",
       "    <tr>\n",
       "      <th>4</th>\n",
       "      <td>세번이나 차이고 사귀다뉘!!!난 한번차인 순간 ...안뇨오오오오옹~~~</td>\n",
       "      <td>우리집</td>\n",
       "      <td>2021-04-07T10:39:20Z</td>\n",
       "      <td>0</td>\n",
       "    </tr>\n",
       "    <tr>\n",
       "      <th>...</th>\n",
       "      <td>...</td>\n",
       "      <td>...</td>\n",
       "      <td>...</td>\n",
       "      <td>...</td>\n",
       "    </tr>\n",
       "    <tr>\n",
       "      <th>163</th>\n",
       "      <td>영상보는 동안 나의 입가에 미소를 지었어요 .두분 그사랑의 끈을 항상 잡고 있으세요</td>\n",
       "      <td>SeongGyu Kim</td>\n",
       "      <td>2020-08-21T20:59:30Z</td>\n",
       "      <td>42</td>\n",
       "    </tr>\n",
       "    <tr>\n",
       "      <th>164</th>\n",
       "      <td>크리스를 보면  때묻지않은 순수함이 느껴져서 좋네요^^맨얼굴 츄리닝 티셔츠 운동화만...</td>\n",
       "      <td>R W</td>\n",
       "      <td>2020-08-21T20:58:15Z</td>\n",
       "      <td>74</td>\n",
       "    </tr>\n",
       "    <tr>\n",
       "      <th>165</th>\n",
       "      <td>any picture of Kris looking more like a boy?  :-)</td>\n",
       "      <td>Lil' Sun</td>\n",
       "      <td>2020-08-21T20:57:27Z</td>\n",
       "      <td>3</td>\n",
       "    </tr>\n",
       "    <tr>\n",
       "      <th>166</th>\n",
       "      <td>Thanks for sharing the story. It&amp;#39;s lovely.</td>\n",
       "      <td>Sangwoo Im</td>\n",
       "      <td>2020-08-21T20:43:17Z</td>\n",
       "      <td>16</td>\n",
       "    </tr>\n",
       "    <tr>\n",
       "      <th>167</th>\n",
       "      <td>참, 잘했어요~ 꼭 행복하시고  아름다운 사랑하세요~~^^</td>\n",
       "      <td>jongsun kim</td>\n",
       "      <td>2020-08-21T20:38:07Z</td>\n",
       "      <td>8</td>\n",
       "    </tr>\n",
       "  </tbody>\n",
       "</table>\n",
       "<p>168 rows × 4 columns</p>\n",
       "</div>"
      ],
      "text/plain": [
       "                                               comment  \\\n",
       "0    자막이 겹쳐보인다면 설정에서 자막을 끄실 수 있습니다!^^ por favor act...   \n",
       "1    Нифига )))) вам везет Скучаю по России ..Кст, ...   \n",
       "2    이런 순수한 고백.사랑...경험해본지 30년은 넘은듯 한데...  영상을 보는내내 ...   \n",
       "3                                   용기있는자가 미인을 얻는다는말..   \n",
       "4              세번이나 차이고 사귀다뉘!!!난 한번차인 순간 ...안뇨오오오오옹~~~   \n",
       "..                                                 ...   \n",
       "163     영상보는 동안 나의 입가에 미소를 지었어요 .두분 그사랑의 끈을 항상 잡고 있으세요   \n",
       "164  크리스를 보면  때묻지않은 순수함이 느껴져서 좋네요^^맨얼굴 츄리닝 티셔츠 운동화만...   \n",
       "165  any picture of Kris looking more like a boy?  :-)   \n",
       "166     Thanks for sharing the story. It&#39;s lovely.   \n",
       "167                   참, 잘했어요~ 꼭 행복하시고  아름다운 사랑하세요~~^^   \n",
       "\n",
       "                     author                  date  num_likes  \n",
       "0    의대생과 공대생 [Kris and ME]  2020-08-21T21:16:20Z         32  \n",
       "1                    아라사의추위  2021-07-20T11:08:11Z          0  \n",
       "2                     인생은추억  2021-04-28T11:35:23Z          1  \n",
       "3                  chul7656  2021-04-22T07:19:06Z          0  \n",
       "4                       우리집  2021-04-07T10:39:20Z          0  \n",
       "..                      ...                   ...        ...  \n",
       "163            SeongGyu Kim  2020-08-21T20:59:30Z         42  \n",
       "164                     R W  2020-08-21T20:58:15Z         74  \n",
       "165                Lil' Sun  2020-08-21T20:57:27Z          3  \n",
       "166              Sangwoo Im  2020-08-21T20:43:17Z         16  \n",
       "167             jongsun kim  2020-08-21T20:38:07Z          8  \n",
       "\n",
       "[168 rows x 4 columns]"
      ]
     },
     "execution_count": 16,
     "metadata": {},
     "output_type": "execute_result"
    }
   ],
   "source": [
    "how_we_met"
   ]
  },
  {
   "cell_type": "code",
   "execution_count": 18,
   "id": "df769076",
   "metadata": {},
   "outputs": [],
   "source": [
    "prank['comment'] = prank['comment'].str.replace('<br>','')"
   ]
  },
  {
   "cell_type": "code",
   "execution_count": 19,
   "id": "4f2d729c",
   "metadata": {},
   "outputs": [],
   "source": [
    "russian_soldier['comment'] = russian_soldier['comment'].str.replace('<br>','')"
   ]
  },
  {
   "cell_type": "code",
   "execution_count": 36,
   "id": "34e41cd8",
   "metadata": {},
   "outputs": [],
   "source": [
    "how_we_met['lang'] = how_we_met['comment'].apply(detect_func)"
   ]
  },
  {
   "cell_type": "code",
   "execution_count": 21,
   "id": "0b776065",
   "metadata": {
    "scrolled": true
   },
   "outputs": [],
   "source": [
    "# for i in range(len(how_we_met)):\n",
    "#     how_we_met.loc[i, 'lang'] = translator.detect(how_we_met.iloc[i]['comment']).lang"
   ]
  },
  {
   "cell_type": "code",
   "execution_count": 30,
   "id": "543da1a1",
   "metadata": {},
   "outputs": [],
   "source": [
    "prank['lang'] = prank['comment'].apply(detect_func)"
   ]
  },
  {
   "cell_type": "code",
   "execution_count": 31,
   "id": "c726da7e",
   "metadata": {},
   "outputs": [
    {
     "data": {
      "text/html": [
       "<div>\n",
       "<style scoped>\n",
       "    .dataframe tbody tr th:only-of-type {\n",
       "        vertical-align: middle;\n",
       "    }\n",
       "\n",
       "    .dataframe tbody tr th {\n",
       "        vertical-align: top;\n",
       "    }\n",
       "\n",
       "    .dataframe thead th {\n",
       "        text-align: right;\n",
       "    }\n",
       "</style>\n",
       "<table border=\"1\" class=\"dataframe\">\n",
       "  <thead>\n",
       "    <tr style=\"text-align: right;\">\n",
       "      <th></th>\n",
       "      <th>comment</th>\n",
       "      <th>author</th>\n",
       "      <th>date</th>\n",
       "      <th>num_likes</th>\n",
       "      <th>lang</th>\n",
       "    </tr>\n",
       "  </thead>\n",
       "  <tbody>\n",
       "    <tr>\n",
       "      <th>0</th>\n",
       "      <td>이 영상으로 불편하셨다면 죄송합니다 ㅠ 앞으로 이런식의 몰카는 하지 않겠습니다..!...</td>\n",
       "      <td>의대생과 공대생 [Kris and ME]</td>\n",
       "      <td>2020-06-22T13:37:26Z</td>\n",
       "      <td>212</td>\n",
       "      <td>en</td>\n",
       "    </tr>\n",
       "    <tr>\n",
       "      <th>1</th>\n",
       "      <td>The love that Kris has for you is enormous. (w...</td>\n",
       "      <td>199515Danny</td>\n",
       "      <td>2020-11-12T00:19:36Z</td>\n",
       "      <td>0</td>\n",
       "      <td>en</td>\n",
       "    </tr>\n",
       "    <tr>\n",
       "      <th>2</th>\n",
       "      <td>쑤레기짓하지맙시다</td>\n",
       "      <td>와이낫</td>\n",
       "      <td>2020-09-04T05:25:43Z</td>\n",
       "      <td>0</td>\n",
       "      <td>ko</td>\n",
       "    </tr>\n",
       "    <tr>\n",
       "      <th>3</th>\n",
       "      <td>이 영상의 교훈..연인간의 몰카 잘못찍다가..사단날수 있다..몰카도 적당한걸로 ㅋㅋ</td>\n",
       "      <td>파랑</td>\n",
       "      <td>2020-08-30T22:26:38Z</td>\n",
       "      <td>0</td>\n",
       "      <td>ko</td>\n",
       "    </tr>\n",
       "    <tr>\n",
       "      <th>4</th>\n",
       "      <td>여친이 너무 사랑해서  몰카도 힘든 수준이군요 ㅋㅋㅋㅋ  그냥 너무 부럽습니다</td>\n",
       "      <td>칼바람</td>\n",
       "      <td>2020-08-10T05:07:45Z</td>\n",
       "      <td>0</td>\n",
       "      <td>ko</td>\n",
       "    </tr>\n",
       "    <tr>\n",
       "      <th>...</th>\n",
       "      <td>...</td>\n",
       "      <td>...</td>\n",
       "      <td>...</td>\n",
       "      <td>...</td>\n",
       "      <td>...</td>\n",
       "    </tr>\n",
       "    <tr>\n",
       "      <th>747</th>\n",
       "      <td>네 적성에 안맞는거 같아요 ㅠㅠㅋㅋㅋ</td>\n",
       "      <td>의대생과 공대생 [Kris and ME]</td>\n",
       "      <td>2020-06-22T11:14:09Z</td>\n",
       "      <td>1</td>\n",
       "      <td>ko</td>\n",
       "    </tr>\n",
       "    <tr>\n",
       "      <th>748</th>\n",
       "      <td>눈물흘릴때 너무 귀엽기도 하면서 내가 더 미안하네 ㅠㅠ</td>\n",
       "      <td>May Ham</td>\n",
       "      <td>2020-06-22T11:08:20Z</td>\n",
       "      <td>34</td>\n",
       "      <td>ko</td>\n",
       "    </tr>\n",
       "    <tr>\n",
       "      <th>749</th>\n",
       "      <td>저도 너무 미안했어요..ㅠㅠ</td>\n",
       "      <td>의대생과 공대생 [Kris and ME]</td>\n",
       "      <td>2020-06-22T11:14:41Z</td>\n",
       "      <td>3</td>\n",
       "      <td>ko</td>\n",
       "    </tr>\n",
       "    <tr>\n",
       "      <th>750</th>\n",
       "      <td>와 진짜 서로 사랑하는게 많이 느껴진다 크리스 눈물 흘릴때 너무 짠했음 ㅠㅠㅠ 크리...</td>\n",
       "      <td>0 mm</td>\n",
       "      <td>2020-06-22T11:07:13Z</td>\n",
       "      <td>63</td>\n",
       "      <td>ko</td>\n",
       "    </tr>\n",
       "    <tr>\n",
       "      <th>751</th>\n",
       "      <td>ㅠㅠ네 너무 미안했네요</td>\n",
       "      <td>의대생과 공대생 [Kris and ME]</td>\n",
       "      <td>2020-06-22T11:14:54Z</td>\n",
       "      <td>2</td>\n",
       "      <td>ko</td>\n",
       "    </tr>\n",
       "  </tbody>\n",
       "</table>\n",
       "<p>752 rows × 5 columns</p>\n",
       "</div>"
      ],
      "text/plain": [
       "                                               comment  \\\n",
       "0    이 영상으로 불편하셨다면 죄송합니다 ㅠ 앞으로 이런식의 몰카는 하지 않겠습니다..!...   \n",
       "1    The love that Kris has for you is enormous. (w...   \n",
       "2                                            쑤레기짓하지맙시다   \n",
       "3       이 영상의 교훈..연인간의 몰카 잘못찍다가..사단날수 있다..몰카도 적당한걸로 ㅋㅋ   \n",
       "4          여친이 너무 사랑해서  몰카도 힘든 수준이군요 ㅋㅋㅋㅋ  그냥 너무 부럽습니다   \n",
       "..                                                 ...   \n",
       "747                               네 적성에 안맞는거 같아요 ㅠㅠㅋㅋㅋ   \n",
       "748                     눈물흘릴때 너무 귀엽기도 하면서 내가 더 미안하네 ㅠㅠ   \n",
       "749                                    저도 너무 미안했어요..ㅠㅠ   \n",
       "750  와 진짜 서로 사랑하는게 많이 느껴진다 크리스 눈물 흘릴때 너무 짠했음 ㅠㅠㅠ 크리...   \n",
       "751                                       ㅠㅠ네 너무 미안했네요   \n",
       "\n",
       "                     author                  date  num_likes lang  \n",
       "0    의대생과 공대생 [Kris and ME]  2020-06-22T13:37:26Z        212   en  \n",
       "1               199515Danny  2020-11-12T00:19:36Z          0   en  \n",
       "2                       와이낫  2020-09-04T05:25:43Z          0   ko  \n",
       "3                        파랑  2020-08-30T22:26:38Z          0   ko  \n",
       "4                       칼바람  2020-08-10T05:07:45Z          0   ko  \n",
       "..                      ...                   ...        ...  ...  \n",
       "747  의대생과 공대생 [Kris and ME]  2020-06-22T11:14:09Z          1   ko  \n",
       "748                 May Ham  2020-06-22T11:08:20Z         34   ko  \n",
       "749  의대생과 공대생 [Kris and ME]  2020-06-22T11:14:41Z          3   ko  \n",
       "750                    0 mm  2020-06-22T11:07:13Z         63   ko  \n",
       "751  의대생과 공대생 [Kris and ME]  2020-06-22T11:14:54Z          2   ko  \n",
       "\n",
       "[752 rows x 5 columns]"
      ]
     },
     "execution_count": 31,
     "metadata": {},
     "output_type": "execute_result"
    }
   ],
   "source": [
    "prank"
   ]
  },
  {
   "cell_type": "code",
   "execution_count": 32,
   "id": "79402a6b",
   "metadata": {},
   "outputs": [],
   "source": [
    "# for i in range(len(prank)):\n",
    "#     prank.loc[i, 'lang'] = translator.detect(prank.loc[i, 'comment']).lang"
   ]
  },
  {
   "cell_type": "code",
   "execution_count": 33,
   "id": "c8f153ae",
   "metadata": {},
   "outputs": [],
   "source": [
    "russian_soldier['lang'] = russian_soldier['comment'].apply(detect_func)"
   ]
  },
  {
   "cell_type": "code",
   "execution_count": 37,
   "id": "b2a0cb44",
   "metadata": {},
   "outputs": [],
   "source": [
    "# for i in range(len(russian_soldier)):\n",
    "#     russian_soldier.loc[i, 'lang'] = translator.detect(russian_soldier.loc[i, 'comment']).lang"
   ]
  },
  {
   "cell_type": "code",
   "execution_count": 38,
   "id": "b52ee5a6",
   "metadata": {},
   "outputs": [],
   "source": [
    "how_we_met.loc[how_we_met['lang']!='ko', 'comment'] = how_we_met[how_we_met['lang']!='ko']['comment'].map(lambda x: translator.translate(x, dest='ko').text)"
   ]
  },
  {
   "cell_type": "code",
   "execution_count": 40,
   "id": "dac71f27",
   "metadata": {},
   "outputs": [],
   "source": [
    "# prank.loc[prank['lang']!='ko', 'comment'] = prank.loc[prank['lang']!='ko', 'comment'].apply(translator.translate, dest='ko').text"
   ]
  },
  {
   "cell_type": "code",
   "execution_count": 41,
   "id": "8c531e6a",
   "metadata": {},
   "outputs": [],
   "source": [
    "prank.loc[prank['lang']!='ko', 'comment'] = prank.loc[prank['lang']!='ko', 'comment'].map(lambda x: translator.translate(x, dest='ko').text)"
   ]
  },
  {
   "cell_type": "code",
   "execution_count": 42,
   "id": "19eef5bd",
   "metadata": {},
   "outputs": [],
   "source": [
    "russian_soldier.loc[russian_soldier['lang']!='ko', 'comment'] = russian_soldier.loc[russian_soldier['lang']!='ko', 'comment'].map(lambda x: translator.translate(x, dest='ko').text)"
   ]
  },
  {
   "cell_type": "code",
   "execution_count": 43,
   "id": "99b6404a",
   "metadata": {},
   "outputs": [],
   "source": [
    "def evaluate(df):\n",
    "    pos = 0\n",
    "    neg = 0\n",
    "    \n",
    "    for i in range(len(df)):\n",
    "        if movie_evaluation_predict(df.loc[i, 'comment']) == 1:\n",
    "            pos += 1\n",
    "        else:\n",
    "            neg += 1\n",
    "    \n",
    "    print(f'positive comments : {pos} negative comments : {neg} positive comments ratio : {pos / (pos + neg) * 100 :.2f}')    \n",
    "    \n",
    "    return pos, neg"
   ]
  },
  {
   "cell_type": "code",
   "execution_count": 69,
   "id": "8d0c8fed",
   "metadata": {},
   "outputs": [],
   "source": [
    "def evaluate_by_country(df):\n",
    "    country = ['ko', 'en', 'ru']\n",
    "    \n",
    "    for c in country:\n",
    "        pos = 0\n",
    "        neg = 0\n",
    "        df_tmp = df[df['lang']==c]\n",
    "        for _, row in df_tmp.iterrows():\n",
    "            if movie_evaluation_predict(row['comment']) == 1:\n",
    "                pos += 1\n",
    "            else:\n",
    "                neg += 1\n",
    "        print(f'{c} lang positive comments : {pos} negative comments : {neg} positive comments ratio : {pos / (pos + neg) * 100 :.2f}')    "
   ]
  },
  {
   "cell_type": "code",
   "execution_count": 70,
   "id": "49c74c7a",
   "metadata": {},
   "outputs": [
    {
     "name": "stdout",
     "output_type": "stream",
     "text": [
      "ko lang positive comments : 103 negative comments : 26 positive comments ratio : 79.84\n",
      "en lang positive comments : 21 negative comments : 3 positive comments ratio : 87.50\n",
      "ru lang positive comments : 7 negative comments : 0 positive comments ratio : 100.00\n"
     ]
    }
   ],
   "source": [
    "evaluate_by_country(how_we_met)"
   ]
  },
  {
   "cell_type": "code",
   "execution_count": 45,
   "id": "c6485cc7",
   "metadata": {},
   "outputs": [
    {
     "name": "stdout",
     "output_type": "stream",
     "text": [
      "positive comments : 137 negative comments : 31 positive comments ratio : 81.55\n"
     ]
    },
    {
     "data": {
      "text/plain": [
       "(137, 31)"
      ]
     },
     "execution_count": 45,
     "metadata": {},
     "output_type": "execute_result"
    }
   ],
   "source": [
    "evaluate(how_we_met)"
   ]
  },
  {
   "cell_type": "code",
   "execution_count": 72,
   "id": "044c04e1",
   "metadata": {},
   "outputs": [
    {
     "name": "stdout",
     "output_type": "stream",
     "text": [
      "ko lang positive comments : 103 negative comments : 26 positive comments ratio : 79.84\n",
      "en lang positive comments : 21 negative comments : 3 positive comments ratio : 87.50\n",
      "ru lang positive comments : 7 negative comments : 0 positive comments ratio : 100.00\n"
     ]
    }
   ],
   "source": [
    "evaluate_by_country(how_we_met)"
   ]
  },
  {
   "cell_type": "code",
   "execution_count": 47,
   "id": "dfb47b4a",
   "metadata": {},
   "outputs": [
    {
     "name": "stdout",
     "output_type": "stream",
     "text": [
      "positive comments : 508 negative comments : 244 positive comments ratio : 67.55\n"
     ]
    },
    {
     "data": {
      "text/plain": [
       "(508, 244)"
      ]
     },
     "execution_count": 47,
     "metadata": {},
     "output_type": "execute_result"
    }
   ],
   "source": [
    "evaluate(prank)"
   ]
  },
  {
   "cell_type": "code",
   "execution_count": 73,
   "id": "124ee6d4",
   "metadata": {},
   "outputs": [
    {
     "name": "stdout",
     "output_type": "stream",
     "text": [
      "ko lang positive comments : 411 negative comments : 224 positive comments ratio : 64.72\n",
      "en lang positive comments : 59 negative comments : 8 positive comments ratio : 88.06\n",
      "ru lang positive comments : 16 negative comments : 2 positive comments ratio : 88.89\n"
     ]
    }
   ],
   "source": [
    "evaluate_by_country(prank)"
   ]
  },
  {
   "cell_type": "code",
   "execution_count": 49,
   "id": "dfc47bb4",
   "metadata": {
    "scrolled": true
   },
   "outputs": [
    {
     "name": "stdout",
     "output_type": "stream",
     "text": [
      "positive comments : 269 negative comments : 92 positive comments ratio : 74.52\n"
     ]
    },
    {
     "data": {
      "text/plain": [
       "(269, 92)"
      ]
     },
     "execution_count": 49,
     "metadata": {},
     "output_type": "execute_result"
    }
   ],
   "source": [
    "evaluate(russian_soldier)"
   ]
  },
  {
   "cell_type": "code",
   "execution_count": 74,
   "id": "0891fa37",
   "metadata": {},
   "outputs": [
    {
     "name": "stdout",
     "output_type": "stream",
     "text": [
      "ko lang positive comments : 216 negative comments : 81 positive comments ratio : 72.73\n",
      "en lang positive comments : 25 negative comments : 4 positive comments ratio : 86.21\n",
      "ru lang positive comments : 15 negative comments : 2 positive comments ratio : 88.24\n"
     ]
    }
   ],
   "source": [
    "evaluate_by_country(russian_soldier)"
   ]
  }
 ],
 "metadata": {
  "kernelspec": {
   "display_name": "Python 3",
   "language": "python",
   "name": "python3"
  },
  "language_info": {
   "codemirror_mode": {
    "name": "ipython",
    "version": 3
   },
   "file_extension": ".py",
   "mimetype": "text/x-python",
   "name": "python",
   "nbconvert_exporter": "python",
   "pygments_lexer": "ipython3",
   "version": "3.6.13"
  }
 },
 "nbformat": 4,
 "nbformat_minor": 5
}
